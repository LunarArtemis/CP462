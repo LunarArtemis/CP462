{
  "cells": [
    {
      "cell_type": "markdown",
      "metadata": {
        "id": "ClINfGfbYgxR"
      },
      "source": [
        "# EDA Activity: Net Pracharat Usage in Province ช."
      ]
    },
    {
      "cell_type": "code",
      "execution_count": 3,
      "metadata": {
        "id": "_WP_Wy9-YZZe"
      },
      "outputs": [
        {
          "name": "stdout",
          "output_type": "stream",
          "text": [
            "Python 3.11.4\n"
          ]
        },
        {
          "data": {
            "text/plain": [
              "'1.25.2'"
            ]
          },
          "execution_count": 3,
          "metadata": {},
          "output_type": "execute_result"
        }
      ],
      "source": [
        "import numpy as np\n",
        "import matplotlib.pyplot as plt\n",
        "import pandas as pd\n",
        "import seaborn as sns\n",
        "!python3 --version\n",
        "np.version.version"
      ]
    },
    {
      "cell_type": "markdown",
      "metadata": {
        "id": "lPI9hkEHZA5m"
      },
      "source": [
        "As data contains Thai characters, we need to load Thai fonts for matplotlib."
      ]
    },
    {
      "cell_type": "code",
      "execution_count": 4,
      "metadata": {
        "id": "CHxIblIQY6s9"
      },
      "outputs": [],
      "source": [
        "import matplotlib as mpl\n",
        "\n",
        "mpl.font_manager.fontManager.addfont('THSarabunChula-Regular.ttf')\n",
        "mpl.rc('font',family='TH Sarabun Chula')"
      ]
    },
    {
      "cell_type": "markdown",
      "metadata": {
        "id": "PZwYqZPda7KC"
      },
      "source": [
        "Let's ingest our data file and take a look."
      ]
    },
    {
      "cell_type": "code",
      "execution_count": 5,
      "metadata": {
        "id": "gaO76f91Y_5w"
      },
      "outputs": [
        {
          "data": {
            "text/html": [
              "<div>\n",
              "<style scoped>\n",
              "    .dataframe tbody tr th:only-of-type {\n",
              "        vertical-align: middle;\n",
              "    }\n",
              "\n",
              "    .dataframe tbody tr th {\n",
              "        vertical-align: top;\n",
              "    }\n",
              "\n",
              "    .dataframe thead th {\n",
              "        text-align: right;\n",
              "    }\n",
              "</style>\n",
              "<table border=\"1\" class=\"dataframe\">\n",
              "  <thead>\n",
              "    <tr style=\"text-align: right;\">\n",
              "      <th></th>\n",
              "      <th>YEAR</th>\n",
              "      <th>MONTH</th>\n",
              "      <th>CIRCUIT_NO</th>\n",
              "      <th>APP_CODE</th>\n",
              "      <th>REGION</th>\n",
              "      <th>VILLAGE</th>\n",
              "      <th>SUBDISTRICT</th>\n",
              "      <th>DISTRICT</th>\n",
              "      <th>PROVINCE</th>\n",
              "      <th>AP_NAME</th>\n",
              "      <th>IP_ADDRESS</th>\n",
              "      <th>UPLOAD</th>\n",
              "      <th>DOWNLOAD</th>\n",
              "      <th>NUM_USERS</th>\n",
              "      <th>NUM_DEVICES</th>\n",
              "    </tr>\n",
              "    <tr>\n",
              "      <th>ID</th>\n",
              "      <th></th>\n",
              "      <th></th>\n",
              "      <th></th>\n",
              "      <th></th>\n",
              "      <th></th>\n",
              "      <th></th>\n",
              "      <th></th>\n",
              "      <th></th>\n",
              "      <th></th>\n",
              "      <th></th>\n",
              "      <th></th>\n",
              "      <th></th>\n",
              "      <th></th>\n",
              "      <th></th>\n",
              "      <th></th>\n",
              "    </tr>\n",
              "  </thead>\n",
              "  <tbody>\n",
              "    <tr>\n",
              "      <th>1</th>\n",
              "      <td>2564</td>\n",
              "      <td>กรกฎาคม</td>\n",
              "      <td>4485d9000</td>\n",
              "      <td>SR711371</td>\n",
              "      <td>ภ.2</td>\n",
              "      <td>หมู่ 13 บ้านมะเกลือ</td>\n",
              "      <td>บ้านกอก</td>\n",
              "      <td>จัตุรัส</td>\n",
              "      <td>ชัยภูมิ</td>\n",
              "      <td>CPM-SR711371</td>\n",
              "      <td>172.16.140.2</td>\n",
              "      <td>4,901.45</td>\n",
              "      <td>86,793.12</td>\n",
              "      <td>403</td>\n",
              "      <td>57.0</td>\n",
              "    </tr>\n",
              "    <tr>\n",
              "      <th>2</th>\n",
              "      <td>2564</td>\n",
              "      <td>กรกฎาคม</td>\n",
              "      <td>4485d9001</td>\n",
              "      <td>SR711374</td>\n",
              "      <td>ภ.2</td>\n",
              "      <td>หมู่ 17 บ้านโนนทอง</td>\n",
              "      <td>บ้านกอก</td>\n",
              "      <td>จัตุรัส</td>\n",
              "      <td>ชัยภูมิ</td>\n",
              "      <td>CPM-SR711374</td>\n",
              "      <td>172.16.140.10</td>\n",
              "      <td>1,609.27</td>\n",
              "      <td>18,763.15</td>\n",
              "      <td>364</td>\n",
              "      <td>69.0</td>\n",
              "    </tr>\n",
              "    <tr>\n",
              "      <th>3</th>\n",
              "      <td>2564</td>\n",
              "      <td>กรกฎาคม</td>\n",
              "      <td>4486d9000</td>\n",
              "      <td>SR711628</td>\n",
              "      <td>ภ.2</td>\n",
              "      <td>หมู่ 1 เพชร</td>\n",
              "      <td>บ้านเพชร</td>\n",
              "      <td>ภูเขียว</td>\n",
              "      <td>ชัยภูมิ</td>\n",
              "      <td>CPM-SR711628</td>\n",
              "      <td>172.16.140.50</td>\n",
              "      <td>6,318.99</td>\n",
              "      <td>91,007.66</td>\n",
              "      <td>693</td>\n",
              "      <td>182.0</td>\n",
              "    </tr>\n",
              "    <tr>\n",
              "      <th>4</th>\n",
              "      <td>2564</td>\n",
              "      <td>กรกฎาคม</td>\n",
              "      <td>4486d9001</td>\n",
              "      <td>SR711630</td>\n",
              "      <td>ภ.2</td>\n",
              "      <td>หมู่ 8 เพชรใต้</td>\n",
              "      <td>บ้านเพชร</td>\n",
              "      <td>ภูเขียว</td>\n",
              "      <td>ชัยภูมิ</td>\n",
              "      <td>CPM-SR711630</td>\n",
              "      <td>172.16.140.58</td>\n",
              "      <td>2,753.82</td>\n",
              "      <td>71,735.24</td>\n",
              "      <td>855</td>\n",
              "      <td>260.0</td>\n",
              "    </tr>\n",
              "    <tr>\n",
              "      <th>5</th>\n",
              "      <td>2564</td>\n",
              "      <td>กรกฎาคม</td>\n",
              "      <td>4486d9002</td>\n",
              "      <td>SR711631</td>\n",
              "      <td>ภ.2</td>\n",
              "      <td>หมู่ 9 กุดตูม</td>\n",
              "      <td>บ้านเพชร</td>\n",
              "      <td>ภูเขียว</td>\n",
              "      <td>ชัยภูมิ</td>\n",
              "      <td>CPM-SR711631</td>\n",
              "      <td>172.16.140.66</td>\n",
              "      <td>13,661.13</td>\n",
              "      <td>259,679.82</td>\n",
              "      <td>835</td>\n",
              "      <td>54.0</td>\n",
              "    </tr>\n",
              "  </tbody>\n",
              "</table>\n",
              "</div>"
            ],
            "text/plain": [
              "    YEAR    MONTH CIRCUIT_NO  APP_CODE REGION              VILLAGE  \\\n",
              "ID                                                                   \n",
              "1   2564  กรกฎาคม  4485d9000  SR711371    ภ.2  หมู่ 13 บ้านมะเกลือ   \n",
              "2   2564  กรกฎาคม  4485d9001  SR711374    ภ.2   หมู่ 17 บ้านโนนทอง   \n",
              "3   2564  กรกฎาคม  4486d9000  SR711628    ภ.2          หมู่ 1 เพชร   \n",
              "4   2564  กรกฎาคม  4486d9001  SR711630    ภ.2       หมู่ 8 เพชรใต้   \n",
              "5   2564  กรกฎาคม  4486d9002  SR711631    ภ.2        หมู่ 9 กุดตูม   \n",
              "\n",
              "   SUBDISTRICT DISTRICT PROVINCE       AP_NAME     IP_ADDRESS     UPLOAD  \\\n",
              "ID                                                                         \n",
              "1      บ้านกอก  จัตุรัส  ชัยภูมิ  CPM-SR711371   172.16.140.2   4,901.45   \n",
              "2      บ้านกอก  จัตุรัส  ชัยภูมิ  CPM-SR711374  172.16.140.10   1,609.27   \n",
              "3     บ้านเพชร  ภูเขียว  ชัยภูมิ  CPM-SR711628  172.16.140.50   6,318.99   \n",
              "4     บ้านเพชร  ภูเขียว  ชัยภูมิ  CPM-SR711630  172.16.140.58   2,753.82   \n",
              "5     บ้านเพชร  ภูเขียว  ชัยภูมิ  CPM-SR711631  172.16.140.66  13,661.13   \n",
              "\n",
              "      DOWNLOAD NUM_USERS  NUM_DEVICES  \n",
              "ID                                     \n",
              "1    86,793.12       403         57.0  \n",
              "2    18,763.15       364         69.0  \n",
              "3    91,007.66       693        182.0  \n",
              "4    71,735.24       855        260.0  \n",
              "5   259,679.82       835         54.0  "
            ]
          },
          "execution_count": 5,
          "metadata": {},
          "output_type": "execute_result"
        }
      ],
      "source": [
        "df = pd.read_csv('internetpracharat2.csv', index_col='ID')\n",
        "df.head()"
      ]
    },
    {
      "cell_type": "code",
      "execution_count": 6,
      "metadata": {
        "id": "EOiRc1UsZj4l"
      },
      "outputs": [
        {
          "data": {
            "text/html": [
              "<div>\n",
              "<style scoped>\n",
              "    .dataframe tbody tr th:only-of-type {\n",
              "        vertical-align: middle;\n",
              "    }\n",
              "\n",
              "    .dataframe tbody tr th {\n",
              "        vertical-align: top;\n",
              "    }\n",
              "\n",
              "    .dataframe thead th {\n",
              "        text-align: right;\n",
              "    }\n",
              "</style>\n",
              "<table border=\"1\" class=\"dataframe\">\n",
              "  <thead>\n",
              "    <tr style=\"text-align: right;\">\n",
              "      <th></th>\n",
              "      <th>YEAR</th>\n",
              "      <th>MONTH</th>\n",
              "      <th>CIRCUIT_NO</th>\n",
              "      <th>APP_CODE</th>\n",
              "      <th>REGION</th>\n",
              "      <th>VILLAGE</th>\n",
              "      <th>SUBDISTRICT</th>\n",
              "      <th>DISTRICT</th>\n",
              "      <th>PROVINCE</th>\n",
              "      <th>AP_NAME</th>\n",
              "      <th>IP_ADDRESS</th>\n",
              "      <th>UPLOAD</th>\n",
              "      <th>DOWNLOAD</th>\n",
              "      <th>NUM_USERS</th>\n",
              "      <th>NUM_DEVICES</th>\n",
              "    </tr>\n",
              "    <tr>\n",
              "      <th>ID</th>\n",
              "      <th></th>\n",
              "      <th></th>\n",
              "      <th></th>\n",
              "      <th></th>\n",
              "      <th></th>\n",
              "      <th></th>\n",
              "      <th></th>\n",
              "      <th></th>\n",
              "      <th></th>\n",
              "      <th></th>\n",
              "      <th></th>\n",
              "      <th></th>\n",
              "      <th></th>\n",
              "      <th></th>\n",
              "      <th></th>\n",
              "    </tr>\n",
              "  </thead>\n",
              "  <tbody>\n",
              "    <tr>\n",
              "      <th>1187</th>\n",
              "      <td>2564</td>\n",
              "      <td>กรกฎาคม</td>\n",
              "      <td>5343d9024</td>\n",
              "      <td>SR712885</td>\n",
              "      <td>ภ.3</td>\n",
              "      <td>หมู่ 10 เมืองหนอง</td>\n",
              "      <td>แม่สาว</td>\n",
              "      <td>แม่อาย</td>\n",
              "      <td>เชียงใหม่</td>\n",
              "      <td>CMI-SR712885</td>\n",
              "      <td>172.18.38.50</td>\n",
              "      <td>9,793.36</td>\n",
              "      <td>156,548.58</td>\n",
              "      <td>982</td>\n",
              "      <td>87.0</td>\n",
              "    </tr>\n",
              "    <tr>\n",
              "      <th>1188</th>\n",
              "      <td>2564</td>\n",
              "      <td>กรกฎาคม</td>\n",
              "      <td>5343d9038</td>\n",
              "      <td>SR768854</td>\n",
              "      <td>ภ.3</td>\n",
              "      <td>หมู่ 15 โป่งไฮ</td>\n",
              "      <td>แม่สาว</td>\n",
              "      <td>แม่อาย</td>\n",
              "      <td>เชียงใหม่</td>\n",
              "      <td>CMI-SR768854</td>\n",
              "      <td>172.18.38.106</td>\n",
              "      <td>31,328.40</td>\n",
              "      <td>572,314.84</td>\n",
              "      <td>1,542</td>\n",
              "      <td>235.0</td>\n",
              "    </tr>\n",
              "    <tr>\n",
              "      <th>1189</th>\n",
              "      <td>2564</td>\n",
              "      <td>กรกฎาคม</td>\n",
              "      <td>5343d9035</td>\n",
              "      <td>SR767884</td>\n",
              "      <td>ภ.3</td>\n",
              "      <td>หมู่ 3 ดอยชัยเหนือ</td>\n",
              "      <td>แม่อาย</td>\n",
              "      <td>แม่อาย</td>\n",
              "      <td>เชียงใหม่</td>\n",
              "      <td>CMI-SR767884</td>\n",
              "      <td>172.18.38.98</td>\n",
              "      <td>6,617.29</td>\n",
              "      <td>161,646.30</td>\n",
              "      <td>537</td>\n",
              "      <td>63.0</td>\n",
              "    </tr>\n",
              "    <tr>\n",
              "      <th>1190</th>\n",
              "      <td>2564</td>\n",
              "      <td>กรกฎาคม</td>\n",
              "      <td>5343d9015</td>\n",
              "      <td>SR705362</td>\n",
              "      <td>ภ.3</td>\n",
              "      <td>หมู่ 9 ปางต้นเดื่อ</td>\n",
              "      <td>แม่อาย</td>\n",
              "      <td>แม่อาย</td>\n",
              "      <td>เชียงใหม่</td>\n",
              "      <td>CMI-SR705362</td>\n",
              "      <td>172.18.37.234</td>\n",
              "      <td>18,093.46</td>\n",
              "      <td>329,186.49</td>\n",
              "      <td>1,816</td>\n",
              "      <td>129.0</td>\n",
              "    </tr>\n",
              "    <tr>\n",
              "      <th>1191</th>\n",
              "      <td>2564</td>\n",
              "      <td>กรกฎาคม</td>\n",
              "      <td>5343d9016</td>\n",
              "      <td>SR705364</td>\n",
              "      <td>ภ.3</td>\n",
              "      <td>หมู่ 13 ดอยแหลม</td>\n",
              "      <td>แม่อาย</td>\n",
              "      <td>แม่อาย</td>\n",
              "      <td>เชียงใหม่</td>\n",
              "      <td>CMI-SR705364</td>\n",
              "      <td>172.18.37.242</td>\n",
              "      <td>67,993.63</td>\n",
              "      <td>1,045,299.83</td>\n",
              "      <td>4,715</td>\n",
              "      <td>194.0</td>\n",
              "    </tr>\n",
              "  </tbody>\n",
              "</table>\n",
              "</div>"
            ],
            "text/plain": [
              "      YEAR    MONTH CIRCUIT_NO  APP_CODE REGION             VILLAGE  \\\n",
              "ID                                                                    \n",
              "1187  2564  กรกฎาคม  5343d9024  SR712885    ภ.3   หมู่ 10 เมืองหนอง   \n",
              "1188  2564  กรกฎาคม  5343d9038  SR768854    ภ.3      หมู่ 15 โป่งไฮ   \n",
              "1189  2564  กรกฎาคม  5343d9035  SR767884    ภ.3  หมู่ 3 ดอยชัยเหนือ   \n",
              "1190  2564  กรกฎาคม  5343d9015  SR705362    ภ.3  หมู่ 9 ปางต้นเดื่อ   \n",
              "1191  2564  กรกฎาคม  5343d9016  SR705364    ภ.3     หมู่ 13 ดอยแหลม   \n",
              "\n",
              "     SUBDISTRICT DISTRICT   PROVINCE       AP_NAME     IP_ADDRESS     UPLOAD  \\\n",
              "ID                                                                             \n",
              "1187      แม่สาว   แม่อาย  เชียงใหม่  CMI-SR712885   172.18.38.50   9,793.36   \n",
              "1188      แม่สาว   แม่อาย  เชียงใหม่  CMI-SR768854  172.18.38.106  31,328.40   \n",
              "1189      แม่อาย   แม่อาย  เชียงใหม่  CMI-SR767884   172.18.38.98   6,617.29   \n",
              "1190      แม่อาย   แม่อาย  เชียงใหม่  CMI-SR705362  172.18.37.234  18,093.46   \n",
              "1191      แม่อาย   แม่อาย  เชียงใหม่  CMI-SR705364  172.18.37.242  67,993.63   \n",
              "\n",
              "          DOWNLOAD NUM_USERS  NUM_DEVICES  \n",
              "ID                                         \n",
              "1187    156,548.58       982         87.0  \n",
              "1188    572,314.84     1,542        235.0  \n",
              "1189    161,646.30       537         63.0  \n",
              "1190    329,186.49     1,816        129.0  \n",
              "1191  1,045,299.83     4,715        194.0  "
            ]
          },
          "execution_count": 6,
          "metadata": {},
          "output_type": "execute_result"
        }
      ],
      "source": [
        "df.tail()"
      ]
    },
    {
      "cell_type": "code",
      "execution_count": 7,
      "metadata": {
        "id": "17fUywMLZh6X"
      },
      "outputs": [
        {
          "data": {
            "text/plain": [
              "(1191, 15)"
            ]
          },
          "execution_count": 7,
          "metadata": {},
          "output_type": "execute_result"
        }
      ],
      "source": [
        "df.shape"
      ]
    },
    {
      "cell_type": "code",
      "execution_count": 8,
      "metadata": {
        "id": "TObDkRv5ZnhO"
      },
      "outputs": [
        {
          "name": "stdout",
          "output_type": "stream",
          "text": [
            "<class 'pandas.core.frame.DataFrame'>\n",
            "Index: 1191 entries, 1 to 1191\n",
            "Data columns (total 15 columns):\n",
            " #   Column       Non-Null Count  Dtype  \n",
            "---  ------       --------------  -----  \n",
            " 0   YEAR         1191 non-null   int64  \n",
            " 1   MONTH        1191 non-null   object \n",
            " 2   CIRCUIT_NO   1191 non-null   object \n",
            " 3   APP_CODE     1191 non-null   object \n",
            " 4   REGION       1191 non-null   object \n",
            " 5   VILLAGE      1191 non-null   object \n",
            " 6   SUBDISTRICT  1191 non-null   object \n",
            " 7   DISTRICT     1183 non-null   object \n",
            " 8   PROVINCE     1191 non-null   object \n",
            " 9   AP_NAME      1191 non-null   object \n",
            " 10  IP_ADDRESS   1191 non-null   object \n",
            " 11  UPLOAD       1188 non-null   object \n",
            " 12  DOWNLOAD     1187 non-null   object \n",
            " 13  NUM_USERS    1187 non-null   object \n",
            " 14  NUM_DEVICES  1187 non-null   float64\n",
            "dtypes: float64(1), int64(1), object(13)\n",
            "memory usage: 148.9+ KB\n"
          ]
        }
      ],
      "source": [
        "df.info()"
      ]
    },
    {
      "cell_type": "markdown",
      "metadata": {
        "id": "kYdJ43Ixa0VU"
      },
      "source": [
        "We need to convert data types of numeric columns first."
      ]
    },
    {
      "cell_type": "code",
      "execution_count": 9,
      "metadata": {
        "id": "vK2wQEpJZo2l"
      },
      "outputs": [],
      "source": [
        "df['UPLOAD']=df['UPLOAD'].str.replace(',','')\n",
        "df['UPLOAD']=df['UPLOAD'].astype('float')\n",
        "df['DOWNLOAD']=df['DOWNLOAD'].str.replace(',','')\n",
        "df['DOWNLOAD']=df['DOWNLOAD'].astype('float')\n",
        "df['NUM_USERS']=df['NUM_USERS'].str.replace(',','')\n",
        "df['NUM_USERS']=pd.to_numeric(df['NUM_USERS'], errors='coerce')\n",
        "df['NUM_DEVICES']=pd.to_numeric(df['NUM_DEVICES'], errors='coerce')"
      ]
    },
    {
      "cell_type": "code",
      "execution_count": 10,
      "metadata": {
        "id": "hAljKrbhZ3Hk"
      },
      "outputs": [
        {
          "name": "stdout",
          "output_type": "stream",
          "text": [
            "<class 'pandas.core.frame.DataFrame'>\n",
            "Index: 1191 entries, 1 to 1191\n",
            "Data columns (total 15 columns):\n",
            " #   Column       Non-Null Count  Dtype  \n",
            "---  ------       --------------  -----  \n",
            " 0   YEAR         1191 non-null   int64  \n",
            " 1   MONTH        1191 non-null   object \n",
            " 2   CIRCUIT_NO   1191 non-null   object \n",
            " 3   APP_CODE     1191 non-null   object \n",
            " 4   REGION       1191 non-null   object \n",
            " 5   VILLAGE      1191 non-null   object \n",
            " 6   SUBDISTRICT  1191 non-null   object \n",
            " 7   DISTRICT     1183 non-null   object \n",
            " 8   PROVINCE     1191 non-null   object \n",
            " 9   AP_NAME      1191 non-null   object \n",
            " 10  IP_ADDRESS   1191 non-null   object \n",
            " 11  UPLOAD       1188 non-null   float64\n",
            " 12  DOWNLOAD     1187 non-null   float64\n",
            " 13  NUM_USERS    1187 non-null   float64\n",
            " 14  NUM_DEVICES  1187 non-null   float64\n",
            "dtypes: float64(4), int64(1), object(10)\n",
            "memory usage: 148.9+ KB\n"
          ]
        }
      ],
      "source": [
        "df.info()"
      ]
    },
    {
      "cell_type": "markdown",
      "metadata": {
        "id": "aRBTL2Aya_wE"
      },
      "source": [
        "Now, numeric columns are numeric."
      ]
    },
    {
      "cell_type": "code",
      "execution_count": 11,
      "metadata": {
        "id": "74zp7dibZ33H"
      },
      "outputs": [
        {
          "data": {
            "text/html": [
              "<div>\n",
              "<style scoped>\n",
              "    .dataframe tbody tr th:only-of-type {\n",
              "        vertical-align: middle;\n",
              "    }\n",
              "\n",
              "    .dataframe tbody tr th {\n",
              "        vertical-align: top;\n",
              "    }\n",
              "\n",
              "    .dataframe thead th {\n",
              "        text-align: right;\n",
              "    }\n",
              "</style>\n",
              "<table border=\"1\" class=\"dataframe\">\n",
              "  <thead>\n",
              "    <tr style=\"text-align: right;\">\n",
              "      <th></th>\n",
              "      <th>YEAR</th>\n",
              "      <th>UPLOAD</th>\n",
              "      <th>DOWNLOAD</th>\n",
              "      <th>NUM_USERS</th>\n",
              "      <th>NUM_DEVICES</th>\n",
              "    </tr>\n",
              "  </thead>\n",
              "  <tbody>\n",
              "    <tr>\n",
              "      <th>count</th>\n",
              "      <td>1191.0</td>\n",
              "      <td>1188.000000</td>\n",
              "      <td>1.187000e+03</td>\n",
              "      <td>1187.000000</td>\n",
              "      <td>1187.000000</td>\n",
              "    </tr>\n",
              "    <tr>\n",
              "      <th>mean</th>\n",
              "      <td>2564.0</td>\n",
              "      <td>14939.224694</td>\n",
              "      <td>2.401545e+05</td>\n",
              "      <td>1034.210615</td>\n",
              "      <td>88.794440</td>\n",
              "    </tr>\n",
              "    <tr>\n",
              "      <th>std</th>\n",
              "      <td>0.0</td>\n",
              "      <td>13045.217364</td>\n",
              "      <td>1.941619e+05</td>\n",
              "      <td>734.747364</td>\n",
              "      <td>54.370907</td>\n",
              "    </tr>\n",
              "    <tr>\n",
              "      <th>min</th>\n",
              "      <td>2564.0</td>\n",
              "      <td>0.000000</td>\n",
              "      <td>0.000000e+00</td>\n",
              "      <td>0.000000</td>\n",
              "      <td>0.000000</td>\n",
              "    </tr>\n",
              "    <tr>\n",
              "      <th>25%</th>\n",
              "      <td>2564.0</td>\n",
              "      <td>4901.720000</td>\n",
              "      <td>8.439467e+04</td>\n",
              "      <td>486.000000</td>\n",
              "      <td>53.000000</td>\n",
              "    </tr>\n",
              "    <tr>\n",
              "      <th>50%</th>\n",
              "      <td>2564.0</td>\n",
              "      <td>11810.400000</td>\n",
              "      <td>1.953455e+05</td>\n",
              "      <td>913.000000</td>\n",
              "      <td>78.000000</td>\n",
              "    </tr>\n",
              "    <tr>\n",
              "      <th>75%</th>\n",
              "      <td>2564.0</td>\n",
              "      <td>21400.615000</td>\n",
              "      <td>3.533752e+05</td>\n",
              "      <td>1420.500000</td>\n",
              "      <td>113.000000</td>\n",
              "    </tr>\n",
              "    <tr>\n",
              "      <th>max</th>\n",
              "      <td>2564.0</td>\n",
              "      <td>135743.910000</td>\n",
              "      <td>1.382876e+06</td>\n",
              "      <td>5933.000000</td>\n",
              "      <td>534.000000</td>\n",
              "    </tr>\n",
              "  </tbody>\n",
              "</table>\n",
              "</div>"
            ],
            "text/plain": [
              "         YEAR         UPLOAD      DOWNLOAD    NUM_USERS  NUM_DEVICES\n",
              "count  1191.0    1188.000000  1.187000e+03  1187.000000  1187.000000\n",
              "mean   2564.0   14939.224694  2.401545e+05  1034.210615    88.794440\n",
              "std       0.0   13045.217364  1.941619e+05   734.747364    54.370907\n",
              "min    2564.0       0.000000  0.000000e+00     0.000000     0.000000\n",
              "25%    2564.0    4901.720000  8.439467e+04   486.000000    53.000000\n",
              "50%    2564.0   11810.400000  1.953455e+05   913.000000    78.000000\n",
              "75%    2564.0   21400.615000  3.533752e+05  1420.500000   113.000000\n",
              "max    2564.0  135743.910000  1.382876e+06  5933.000000   534.000000"
            ]
          },
          "execution_count": 11,
          "metadata": {},
          "output_type": "execute_result"
        }
      ],
      "source": [
        "df.describe()"
      ]
    },
    {
      "cell_type": "code",
      "execution_count": 12,
      "metadata": {},
      "outputs": [
        {
          "data": {
            "image/png": "[encoded data removed]",
            "text/plain": [
              "<Figure size 1000x500 with 1 Axes>"
            ]
          },
          "metadata": {},
          "output_type": "display_data"
        }
      ],
      "source": [
        "plt.figure(figsize=(10,5))\n",
        "sns.regplot(x='NUM_USERS', y='DOWNLOAD', data=df)\n",
        "plt.title('Upload Speed')\n",
        "plt.show()"
      ]
    },
    {
      "cell_type": "code",
      "execution_count": 13,
      "metadata": {},
      "outputs": [
        {
          "data": {
            "text/plain": [
              "array(['ชัยภูมิ', 'ชลบุรี', 'ชัยนาท'], dtype=object)"
            ]
          },
          "execution_count": 13,
          "metadata": {},
          "output_type": "execute_result"
        }
      ],
      "source": [
        "# list of province name start with 'ช'\n",
        "df[df['PROVINCE'].str.startswith('ช')]['PROVINCE'].unique()\n"
      ]
    },
    {
      "cell_type": "code",
      "execution_count": 14,
      "metadata": {},
      "outputs": [
        {
          "data": {
            "text/html": [
              "<div>\n",
              "<style scoped>\n",
              "    .dataframe tbody tr th:only-of-type {\n",
              "        vertical-align: middle;\n",
              "    }\n",
              "\n",
              "    .dataframe tbody tr th {\n",
              "        vertical-align: top;\n",
              "    }\n",
              "\n",
              "    .dataframe thead th {\n",
              "        text-align: right;\n",
              "    }\n",
              "</style>\n",
              "<table border=\"1\" class=\"dataframe\">\n",
              "  <thead>\n",
              "    <tr style=\"text-align: right;\">\n",
              "      <th></th>\n",
              "      <th>YEAR</th>\n",
              "      <th>MONTH</th>\n",
              "      <th>CIRCUIT_NO</th>\n",
              "      <th>APP_CODE</th>\n",
              "      <th>REGION</th>\n",
              "      <th>VILLAGE</th>\n",
              "      <th>SUBDISTRICT</th>\n",
              "      <th>DISTRICT</th>\n",
              "      <th>PROVINCE</th>\n",
              "      <th>AP_NAME</th>\n",
              "      <th>IP_ADDRESS</th>\n",
              "      <th>UPLOAD</th>\n",
              "      <th>DOWNLOAD</th>\n",
              "      <th>NUM_USERS</th>\n",
              "      <th>NUM_DEVICES</th>\n",
              "    </tr>\n",
              "    <tr>\n",
              "      <th>ID</th>\n",
              "      <th></th>\n",
              "      <th></th>\n",
              "      <th></th>\n",
              "      <th></th>\n",
              "      <th></th>\n",
              "      <th></th>\n",
              "      <th></th>\n",
              "      <th></th>\n",
              "      <th></th>\n",
              "      <th></th>\n",
              "      <th></th>\n",
              "      <th></th>\n",
              "      <th></th>\n",
              "      <th></th>\n",
              "      <th></th>\n",
              "    </tr>\n",
              "  </thead>\n",
              "  <tbody>\n",
              "    <tr>\n",
              "      <th>1</th>\n",
              "      <td>2564</td>\n",
              "      <td>กรกฎาคม</td>\n",
              "      <td>4485d9000</td>\n",
              "      <td>SR711371</td>\n",
              "      <td>ภ.2</td>\n",
              "      <td>หมู่ 13 บ้านมะเกลือ</td>\n",
              "      <td>บ้านกอก</td>\n",
              "      <td>จัตุรัส</td>\n",
              "      <td>ชัยภูมิ</td>\n",
              "      <td>CPM-SR711371</td>\n",
              "      <td>172.16.140.2</td>\n",
              "      <td>4901.45</td>\n",
              "      <td>86793.12</td>\n",
              "      <td>403.0</td>\n",
              "      <td>57.0</td>\n",
              "    </tr>\n",
              "    <tr>\n",
              "      <th>2</th>\n",
              "      <td>2564</td>\n",
              "      <td>กรกฎาคม</td>\n",
              "      <td>4485d9001</td>\n",
              "      <td>SR711374</td>\n",
              "      <td>ภ.2</td>\n",
              "      <td>หมู่ 17 บ้านโนนทอง</td>\n",
              "      <td>บ้านกอก</td>\n",
              "      <td>จัตุรัส</td>\n",
              "      <td>ชัยภูมิ</td>\n",
              "      <td>CPM-SR711374</td>\n",
              "      <td>172.16.140.10</td>\n",
              "      <td>1609.27</td>\n",
              "      <td>18763.15</td>\n",
              "      <td>364.0</td>\n",
              "      <td>69.0</td>\n",
              "    </tr>\n",
              "    <tr>\n",
              "      <th>3</th>\n",
              "      <td>2564</td>\n",
              "      <td>กรกฎาคม</td>\n",
              "      <td>4486d9000</td>\n",
              "      <td>SR711628</td>\n",
              "      <td>ภ.2</td>\n",
              "      <td>หมู่ 1 เพชร</td>\n",
              "      <td>บ้านเพชร</td>\n",
              "      <td>ภูเขียว</td>\n",
              "      <td>ชัยภูมิ</td>\n",
              "      <td>CPM-SR711628</td>\n",
              "      <td>172.16.140.50</td>\n",
              "      <td>6318.99</td>\n",
              "      <td>91007.66</td>\n",
              "      <td>693.0</td>\n",
              "      <td>182.0</td>\n",
              "    </tr>\n",
              "    <tr>\n",
              "      <th>4</th>\n",
              "      <td>2564</td>\n",
              "      <td>กรกฎาคม</td>\n",
              "      <td>4486d9001</td>\n",
              "      <td>SR711630</td>\n",
              "      <td>ภ.2</td>\n",
              "      <td>หมู่ 8 เพชรใต้</td>\n",
              "      <td>บ้านเพชร</td>\n",
              "      <td>ภูเขียว</td>\n",
              "      <td>ชัยภูมิ</td>\n",
              "      <td>CPM-SR711630</td>\n",
              "      <td>172.16.140.58</td>\n",
              "      <td>2753.82</td>\n",
              "      <td>71735.24</td>\n",
              "      <td>855.0</td>\n",
              "      <td>260.0</td>\n",
              "    </tr>\n",
              "    <tr>\n",
              "      <th>5</th>\n",
              "      <td>2564</td>\n",
              "      <td>กรกฎาคม</td>\n",
              "      <td>4486d9002</td>\n",
              "      <td>SR711631</td>\n",
              "      <td>ภ.2</td>\n",
              "      <td>หมู่ 9 กุดตูม</td>\n",
              "      <td>บ้านเพชร</td>\n",
              "      <td>ภูเขียว</td>\n",
              "      <td>ชัยภูมิ</td>\n",
              "      <td>CPM-SR711631</td>\n",
              "      <td>172.16.140.66</td>\n",
              "      <td>13661.13</td>\n",
              "      <td>259679.82</td>\n",
              "      <td>835.0</td>\n",
              "      <td>54.0</td>\n",
              "    </tr>\n",
              "    <tr>\n",
              "      <th>...</th>\n",
              "      <td>...</td>\n",
              "      <td>...</td>\n",
              "      <td>...</td>\n",
              "      <td>...</td>\n",
              "      <td>...</td>\n",
              "      <td>...</td>\n",
              "      <td>...</td>\n",
              "      <td>...</td>\n",
              "      <td>...</td>\n",
              "      <td>...</td>\n",
              "      <td>...</td>\n",
              "      <td>...</td>\n",
              "      <td>...</td>\n",
              "      <td>...</td>\n",
              "      <td>...</td>\n",
              "    </tr>\n",
              "    <tr>\n",
              "      <th>1136</th>\n",
              "      <td>2564</td>\n",
              "      <td>กรกฎาคม</td>\n",
              "      <td>4481d9096</td>\n",
              "      <td>SR670365</td>\n",
              "      <td>ภ.2</td>\n",
              "      <td>หมู่ 11 ผาทอง</td>\n",
              "      <td>วังทอง</td>\n",
              "      <td>ภักดีชุมพล</td>\n",
              "      <td>ชัยภูมิ</td>\n",
              "      <td>CPM-SR670365</td>\n",
              "      <td>172.16.146.210</td>\n",
              "      <td>4116.62</td>\n",
              "      <td>109246.63</td>\n",
              "      <td>382.0</td>\n",
              "      <td>55.0</td>\n",
              "    </tr>\n",
              "    <tr>\n",
              "      <th>1137</th>\n",
              "      <td>2564</td>\n",
              "      <td>กรกฎาคม</td>\n",
              "      <td>4481d9099</td>\n",
              "      <td>SR670376</td>\n",
              "      <td>ภ.2</td>\n",
              "      <td>หมู่ 5 ดงสวรรค์</td>\n",
              "      <td>แหลมทอง</td>\n",
              "      <td>ภักดีชุมพล</td>\n",
              "      <td>ชัยภูมิ</td>\n",
              "      <td>CPM-SR670376</td>\n",
              "      <td>172.16.146.234</td>\n",
              "      <td>1822.40</td>\n",
              "      <td>35846.53</td>\n",
              "      <td>200.0</td>\n",
              "      <td>45.0</td>\n",
              "    </tr>\n",
              "    <tr>\n",
              "      <th>1138</th>\n",
              "      <td>2564</td>\n",
              "      <td>กรกฎาคม</td>\n",
              "      <td>4481d9100</td>\n",
              "      <td>SR670377</td>\n",
              "      <td>ภ.2</td>\n",
              "      <td>หมู่ 6 วังตะกู</td>\n",
              "      <td>แหลมทอง</td>\n",
              "      <td>ภักดีชุมพล</td>\n",
              "      <td>ชัยภูมิ</td>\n",
              "      <td>CPM-SR670377</td>\n",
              "      <td>172.16.146.242</td>\n",
              "      <td>34020.25</td>\n",
              "      <td>409141.72</td>\n",
              "      <td>3016.0</td>\n",
              "      <td>124.0</td>\n",
              "    </tr>\n",
              "    <tr>\n",
              "      <th>1139</th>\n",
              "      <td>2564</td>\n",
              "      <td>กรกฎาคม</td>\n",
              "      <td>4481d9101</td>\n",
              "      <td>SR670378</td>\n",
              "      <td>ภ.2</td>\n",
              "      <td>หมู่ 7 โนนผักหวาน</td>\n",
              "      <td>แหลมทอง</td>\n",
              "      <td>ภักดีชุมพล</td>\n",
              "      <td>ชัยภูมิ</td>\n",
              "      <td>CPM-SR670378</td>\n",
              "      <td>172.16.146.250</td>\n",
              "      <td>11387.54</td>\n",
              "      <td>259253.78</td>\n",
              "      <td>1113.0</td>\n",
              "      <td>129.0</td>\n",
              "    </tr>\n",
              "    <tr>\n",
              "      <th>1140</th>\n",
              "      <td>2564</td>\n",
              "      <td>กรกฎาคม</td>\n",
              "      <td>4481d9102</td>\n",
              "      <td>SR670379</td>\n",
              "      <td>ภ.2</td>\n",
              "      <td>หมู่ 8 ซับไทรทอง</td>\n",
              "      <td>แหลมทอง</td>\n",
              "      <td>ภักดีชุมพล</td>\n",
              "      <td>ชัยภูมิ</td>\n",
              "      <td>CPM-SR670379</td>\n",
              "      <td>172.16.147.2</td>\n",
              "      <td>13897.22</td>\n",
              "      <td>199862.90</td>\n",
              "      <td>2474.0</td>\n",
              "      <td>106.0</td>\n",
              "    </tr>\n",
              "  </tbody>\n",
              "</table>\n",
              "<p>848 rows × 15 columns</p>\n",
              "</div>"
            ],
            "text/plain": [
              "      YEAR    MONTH CIRCUIT_NO  APP_CODE REGION              VILLAGE  \\\n",
              "ID                                                                     \n",
              "1     2564  กรกฎาคม  4485d9000  SR711371    ภ.2  หมู่ 13 บ้านมะเกลือ   \n",
              "2     2564  กรกฎาคม  4485d9001  SR711374    ภ.2   หมู่ 17 บ้านโนนทอง   \n",
              "3     2564  กรกฎาคม  4486d9000  SR711628    ภ.2          หมู่ 1 เพชร   \n",
              "4     2564  กรกฎาคม  4486d9001  SR711630    ภ.2       หมู่ 8 เพชรใต้   \n",
              "5     2564  กรกฎาคม  4486d9002  SR711631    ภ.2        หมู่ 9 กุดตูม   \n",
              "...    ...      ...        ...       ...    ...                  ...   \n",
              "1136  2564  กรกฎาคม  4481d9096  SR670365    ภ.2        หมู่ 11 ผาทอง   \n",
              "1137  2564  กรกฎาคม  4481d9099  SR670376    ภ.2      หมู่ 5 ดงสวรรค์   \n",
              "1138  2564  กรกฎาคม  4481d9100  SR670377    ภ.2       หมู่ 6 วังตะกู   \n",
              "1139  2564  กรกฎาคม  4481d9101  SR670378    ภ.2    หมู่ 7 โนนผักหวาน   \n",
              "1140  2564  กรกฎาคม  4481d9102  SR670379    ภ.2     หมู่ 8 ซับไทรทอง   \n",
              "\n",
              "     SUBDISTRICT    DISTRICT PROVINCE       AP_NAME      IP_ADDRESS    UPLOAD  \\\n",
              "ID                                                                              \n",
              "1        บ้านกอก     จัตุรัส  ชัยภูมิ  CPM-SR711371    172.16.140.2   4901.45   \n",
              "2        บ้านกอก     จัตุรัส  ชัยภูมิ  CPM-SR711374   172.16.140.10   1609.27   \n",
              "3       บ้านเพชร     ภูเขียว  ชัยภูมิ  CPM-SR711628   172.16.140.50   6318.99   \n",
              "4       บ้านเพชร     ภูเขียว  ชัยภูมิ  CPM-SR711630   172.16.140.58   2753.82   \n",
              "5       บ้านเพชร     ภูเขียว  ชัยภูมิ  CPM-SR711631   172.16.140.66  13661.13   \n",
              "...          ...         ...      ...           ...             ...       ...   \n",
              "1136      วังทอง  ภักดีชุมพล  ชัยภูมิ  CPM-SR670365  172.16.146.210   4116.62   \n",
              "1137     แหลมทอง  ภักดีชุมพล  ชัยภูมิ  CPM-SR670376  172.16.146.234   1822.40   \n",
              "1138     แหลมทอง  ภักดีชุมพล  ชัยภูมิ  CPM-SR670377  172.16.146.242  34020.25   \n",
              "1139     แหลมทอง  ภักดีชุมพล  ชัยภูมิ  CPM-SR670378  172.16.146.250  11387.54   \n",
              "1140     แหลมทอง  ภักดีชุมพล  ชัยภูมิ  CPM-SR670379    172.16.147.2  13897.22   \n",
              "\n",
              "       DOWNLOAD  NUM_USERS  NUM_DEVICES  \n",
              "ID                                       \n",
              "1      86793.12      403.0         57.0  \n",
              "2      18763.15      364.0         69.0  \n",
              "3      91007.66      693.0        182.0  \n",
              "4      71735.24      855.0        260.0  \n",
              "5     259679.82      835.0         54.0  \n",
              "...         ...        ...          ...  \n",
              "1136  109246.63      382.0         55.0  \n",
              "1137   35846.53      200.0         45.0  \n",
              "1138  409141.72     3016.0        124.0  \n",
              "1139  259253.78     1113.0        129.0  \n",
              "1140  199862.90     2474.0        106.0  \n",
              "\n",
              "[848 rows x 15 columns]"
            ]
          },
          "execution_count": 14,
          "metadata": {},
          "output_type": "execute_result"
        }
      ],
      "source": [
        "# show all data of province name start with 'ช'\n",
        "df[df['PROVINCE'].str.startswith('ช')]\n"
      ]
    },
    {
      "cell_type": "code",
      "execution_count": 15,
      "metadata": {},
      "outputs": [
        {
          "data": {
            "text/plain": [
              "PROVINCE\n",
              "ชลบุรี     Axes(0.125,0.11;0.775x0.77)\n",
              "ชัยนาท     Axes(0.125,0.11;0.775x0.77)\n",
              "ชัยภูมิ    Axes(0.125,0.11;0.775x0.77)\n",
              "Name: DOWNLOAD, dtype: object"
            ]
          },
          "execution_count": 15,
          "metadata": {},
          "output_type": "execute_result"
        },
        {
          "data": {
            "image/png": "[encoded data removed]",
            "text/plain": [
              "<Figure size 640x480 with 1 Axes>"
            ]
          },
          "metadata": {},
          "output_type": "display_data"
        }
      ],
      "source": [
        "# group by province start with 'ช' and show first row of each group\n",
        "#df[df['PROVINCE'].str.startswith('ช')].groupby('PROVINCE').first()\n",
        "\n",
        "# plot line graph of DOWNLOAD by province start with 'ช' and show first row of each group\n",
        "#df[df['PROVINCE'].str.startswith('ช')].groupby('PROVINCE')['DOWNLOAD'].plot(legend=True, alpha=0.5)\n",
        "\n",
        "df[df['PROVINCE'].str.startswith('ช')].groupby('PROVINCE')['DOWNLOAD'].plot.hist(legend=True, alpha=0.5)"
      ]
    },
    {
      "cell_type": "code",
      "execution_count": 16,
      "metadata": {},
      "outputs": [
        {
          "data": {
            "text/plain": [
              "PROVINCE\n",
              "ชัยภูมิ    619\n",
              "ชัยนาท     203\n",
              "ชลบุรี      26\n",
              "Name: count, dtype: int64"
            ]
          },
          "execution_count": 16,
          "metadata": {},
          "output_type": "execute_result"
        }
      ],
      "source": [
        "# count of ID in each province start with 'ชัยภูมิ'\n",
        "df.PROVINCE[df['PROVINCE'].str.startswith('ช')].value_counts()"
      ]
    },
    {
      "cell_type": "code",
      "execution_count": 17,
      "metadata": {},
      "outputs": [
        {
          "data": {
            "text/plain": [
              "<Axes: ylabel='Frequency'>"
            ]
          },
          "execution_count": 17,
          "metadata": {},
          "output_type": "execute_result"
        },
        {
          "data": {
            "image/png": "[encoded data removed]",
            "text/plain": [
              "<Figure size 640x480 with 1 Axes>"
            ]
          },
          "metadata": {},
          "output_type": "display_data"
        }
      ],
      "source": [
        "# plot histogram of DOWNLOAD by province start with 'ชัยภูมิ'\n",
        "df[df['PROVINCE'].str.startswith('ชัยภูมิ')]['DOWNLOAD'].plot.hist()"
      ]
    },
    {
      "cell_type": "code",
      "execution_count": 18,
      "metadata": {},
      "outputs": [
        {
          "data": {
            "text/plain": [
              "<Axes: xlabel='PROVINCE'>"
            ]
          },
          "execution_count": 18,
          "metadata": {},
          "output_type": "execute_result"
        },
        {
          "data": {
            "image/png": "[encoded data removed]",
            "text/plain": [
              "<Figure size 640x480 with 1 Axes>"
            ]
          },
          "metadata": {},
          "output_type": "display_data"
        }
      ],
      "source": [
        "# df[df['PROVINCE'].str.startswith('ช')].groupby('PROVINCE').first()\n",
        "# plot bar chart of DOWNLOAD and UPLOAD by province\n",
        "df[df['PROVINCE'].str.startswith('ช')].groupby('PROVINCE').first()[['DOWNLOAD','UPLOAD']].plot.bar()\n"
      ]
    },
    {
      "cell_type": "code",
      "execution_count": 19,
      "metadata": {},
      "outputs": [
        {
          "data": {
            "text/plain": [
              "<Axes: xlabel='PROVINCE'>"
            ]
          },
          "execution_count": 19,
          "metadata": {},
          "output_type": "execute_result"
        },
        {
          "data": {
            "image/png": "[encoded data removed]",
            "text/plain": [
              "<Figure size 640x480 with 2 Axes>"
            ]
          },
          "metadata": {},
          "output_type": "display_data"
        }
      ],
      "source": [
        "# sns bar plot dual y axis is DOWNLOAD and  UPLOAD by province start with 'ช' \n",
        "df[df['PROVINCE'].str.startswith('ช')].groupby('PROVINCE').first()[['DOWNLOAD','UPLOAD']].plot.bar(secondary_y='UPLOAD')\n",
        "\n"
      ]
    },
    {
      "cell_type": "code",
      "execution_count": 20,
      "metadata": {},
      "outputs": [
        {
          "data": {
            "text/plain": [
              "<Axes: xlabel='PROVINCE', ylabel='UPLOAD'>"
            ]
          },
          "execution_count": 20,
          "metadata": {},
          "output_type": "execute_result"
        },
        {
          "data": {
            "image/png": "[encoded data removed]",
            "text/plain": [
              "<Figure size 1500x500 with 2 Axes>"
            ]
          },
          "metadata": {},
          "output_type": "display_data"
        }
      ],
      "source": [
        "fig, ax = plt.subplots(1,2, figsize=(15,5))\n",
        "sns.barplot(x='PROVINCE', y='DOWNLOAD', data=df[df['PROVINCE'].str.startswith('ช')], ax=ax[0])\n",
        "sns.barplot(x='PROVINCE', y='UPLOAD', data=df[df['PROVINCE'].str.startswith('ช')], ax=ax[1])\n"
      ]
    },
    {
      "cell_type": "markdown",
      "metadata": {},
      "source": []
    }
  ],
  "metadata": {
    "colab": {
      "provenance": []
    },
    "kernelspec": {
      "display_name": "Python 3",
      "name": "python3"
    },
    "language_info": {
      "codemirror_mode": {
        "name": "ipython",
        "version": 3
      },
      "file_extension": ".py",
      "mimetype": "text/x-python",
      "name": "python",
      "nbconvert_exporter": "python",
      "pygments_lexer": "ipython3",
      "version": "3.11.4"
    }
  },
  "nbformat": 4,
  "nbformat_minor": 0
}
